{
 "cells": [
  {
   "cell_type": "markdown",
   "id": "57f8d649",
   "metadata": {},
   "source": [
    "### 1.1 Write a Python Program (with class concept) to find the area  of the triangle using the below formula.\n",
    "area = (s*(s-a)*(s-b)*(s-c))**0.5\n",
    "\n",
    "Fuction to take the length of the sides of triangle from users should be defined in the parent class and function to calculate the area should be defined in subclass."
   ]
  },
  {
   "cell_type": "code",
   "execution_count": 32,
   "id": "aaa2f79c",
   "metadata": {},
   "outputs": [],
   "source": [
    "class P:\n",
    "    def __init__(self,a,b,c):\n",
    "        self.a = a\n",
    "        self.b = b\n",
    "        self.c = c\n",
    "class C(P):\n",
    "    def area_of_triangle(self):\n",
    "        s = (self.a+self.b+self.c)/2\n",
    "        \n",
    "        area = (s*(s-self.a)*(s-self.b)*(s-self.c))**0.5\n",
    "        \n",
    "        return area"
   ]
  },
  {
   "cell_type": "code",
   "execution_count": 34,
   "id": "38887cff",
   "metadata": {},
   "outputs": [
    {
     "data": {
      "text/plain": [
       "9.921567416492215"
      ]
     },
     "execution_count": 34,
     "metadata": {},
     "output_type": "execute_result"
    }
   ],
   "source": [
    "c = C(4,5,6)\n",
    "c.area_of_triangle()"
   ]
  },
  {
   "cell_type": "markdown",
   "id": "8baec9ed",
   "metadata": {},
   "source": [
    "### 1.2 Write a function filtet_long_words() that takes a list of words and an integer n and returns the list of words that are longer than n."
   ]
  },
  {
   "cell_type": "code",
   "execution_count": 37,
   "id": "1e25b13d",
   "metadata": {},
   "outputs": [],
   "source": [
    "def filter_long_words(l,n):\n",
    "    longer_than_n =[]\n",
    "    for i in l:\n",
    "        if len(i)>n:\n",
    "            longer_than_n.append(i)\n",
    "    return longer_than_n"
   ]
  },
  {
   "cell_type": "code",
   "execution_count": 38,
   "id": "d8bd9905",
   "metadata": {},
   "outputs": [
    {
     "data": {
      "text/plain": [
       "['Piyush', 'Sharma']"
      ]
     },
     "execution_count": 38,
     "metadata": {},
     "output_type": "execute_result"
    }
   ],
   "source": [
    "filter_long_words(['Piyush','Sharma','Katy','Kat','Ozzy'],4)"
   ]
  },
  {
   "cell_type": "markdown",
   "id": "f7f471c5",
   "metadata": {},
   "source": [
    "### 2.1 Write a Python program using function concept that maps list of words into a list of integers representing the length of the corresponding words."
   ]
  },
  {
   "cell_type": "code",
   "execution_count": 56,
   "id": "9a472007",
   "metadata": {},
   "outputs": [],
   "source": [
    "def lenghth_of_words(words):\n",
    "    d = {}\n",
    "    for i in words:\n",
    "        d[i] = len(i)\n",
    "    return d.values()\n"
   ]
  },
  {
   "cell_type": "code",
   "execution_count": 59,
   "id": "e04d40df",
   "metadata": {},
   "outputs": [
    {
     "data": {
      "text/plain": [
       "dict_values([6, 6, 4, 3, 4])"
      ]
     },
     "execution_count": 59,
     "metadata": {},
     "output_type": "execute_result"
    }
   ],
   "source": [
    "lenghth_of_words(['Piyush','Sharma','Katy','Kat','Ozzy'])"
   ]
  },
  {
   "cell_type": "markdown",
   "id": "e72a3468",
   "metadata": {},
   "source": [
    "### 2.2 Write a Python fucntion which takes a character (i.e string of length 1) and returns True if it is a vowel, False otherwise."
   ]
  },
  {
   "cell_type": "code",
   "execution_count": 64,
   "id": "b4874df2",
   "metadata": {},
   "outputs": [],
   "source": [
    "def is_vowel(x):\n",
    "    vowels = ['A','E','I','O','U','a','e','i','o','u']\n",
    "    \n",
    "    if x in vowels:\n",
    "        return True\n",
    "    else:\n",
    "        return False"
   ]
  },
  {
   "cell_type": "code",
   "execution_count": 66,
   "id": "344dc6eb",
   "metadata": {},
   "outputs": [
    {
     "data": {
      "text/plain": [
       "True"
      ]
     },
     "execution_count": 66,
     "metadata": {},
     "output_type": "execute_result"
    }
   ],
   "source": [
    "is_vowel('i')"
   ]
  },
  {
   "cell_type": "code",
   "execution_count": null,
   "id": "a0698cc9",
   "metadata": {},
   "outputs": [],
   "source": []
  }
 ],
 "metadata": {
  "kernelspec": {
   "display_name": "Python 3 (ipykernel)",
   "language": "python",
   "name": "python3"
  },
  "language_info": {
   "codemirror_mode": {
    "name": "ipython",
    "version": 3
   },
   "file_extension": ".py",
   "mimetype": "text/x-python",
   "name": "python",
   "nbconvert_exporter": "python",
   "pygments_lexer": "ipython3",
   "version": "3.9.7"
  }
 },
 "nbformat": 4,
 "nbformat_minor": 5
}
