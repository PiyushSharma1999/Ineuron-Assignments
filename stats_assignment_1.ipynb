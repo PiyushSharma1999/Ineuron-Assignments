{
 "cells": [
  {
   "cell_type": "markdown",
   "id": "ce22ddb3",
   "metadata": {},
   "source": [
    "### Calculate the mean, median, mode and standard deviation for the problem statements 1& 2.\n",
    "Problem Statement 1:\n",
    "The marks awarded for an assignment set for a Year 8 class of 20 students were as\n",
    "follows:\n",
    "6 7 5 7 7 8 7 6 9 7 4 10 6 8 8 9 5 6 4 8"
   ]
  },
  {
   "cell_type": "code",
   "execution_count": 55,
   "id": "9d640204",
   "metadata": {},
   "outputs": [],
   "source": [
    "import numpy as np\n",
    "import matplotlib.pyplot as plt\n",
    "import seaborn as sns\n",
    "import scipy.stats as st\n",
    "%matplotlib inline"
   ]
  },
  {
   "cell_type": "code",
   "execution_count": 2,
   "id": "d5b49c38",
   "metadata": {},
   "outputs": [],
   "source": [
    "x = np.array([6 ,7, 5 ,7 ,7 ,8 ,7 ,6 ,9 ,7 ,4 ,10 ,6 ,8 ,8 ,9 ,5 ,6 ,4 ,8])"
   ]
  },
  {
   "cell_type": "code",
   "execution_count": 3,
   "id": "8da28c48",
   "metadata": {},
   "outputs": [
    {
     "data": {
      "text/plain": [
       "6.85"
      ]
     },
     "execution_count": 3,
     "metadata": {},
     "output_type": "execute_result"
    }
   ],
   "source": [
    "np.mean(x)"
   ]
  },
  {
   "cell_type": "code",
   "execution_count": 5,
   "id": "4937b20c",
   "metadata": {},
   "outputs": [
    {
     "data": {
      "text/plain": [
       "7.0"
      ]
     },
     "execution_count": 5,
     "metadata": {},
     "output_type": "execute_result"
    }
   ],
   "source": [
    "np.median(x)"
   ]
  },
  {
   "cell_type": "code",
   "execution_count": 12,
   "id": "992c9359",
   "metadata": {},
   "outputs": [],
   "source": [
    "def mode(dataset):\n",
    "    frequency = {}\n",
    "\n",
    "    for value in dataset:\n",
    "        frequency[value] = frequency.get(value, 0) + 1\n",
    "\n",
    "    most_frequent = max(frequency.values())\n",
    "\n",
    "    modes = [key for key, value in frequency.items()\n",
    "                      if value == most_frequent]\n",
    "\n",
    "    return modes"
   ]
  },
  {
   "cell_type": "code",
   "execution_count": 13,
   "id": "2507552f",
   "metadata": {},
   "outputs": [
    {
     "data": {
      "text/plain": [
       "[7]"
      ]
     },
     "execution_count": 13,
     "metadata": {},
     "output_type": "execute_result"
    }
   ],
   "source": [
    "mode(x)"
   ]
  },
  {
   "cell_type": "markdown",
   "id": "f617ac83",
   "metadata": {},
   "source": [
    "### Problem Statement 2:\n",
    "The number of calls from motorists per day for roadside service was recorded for a\n",
    "particular month:\n",
    "28, 122, 217, 130, 120, 86, 80, 90, 140, 120, 70, 40, 145, 113, 90, 68, 174, 194, 170,\n",
    "100, 75, 104, 97, 75,\n",
    "123, 100, 75, 104, 97, 75, 123, 100, 89, 120, 109"
   ]
  },
  {
   "cell_type": "code",
   "execution_count": 9,
   "id": "723c2687",
   "metadata": {},
   "outputs": [],
   "source": [
    "y = np.array([28, 122, 217, 130, 120, 86, 80, 90, 140, 120, 70, 40, 145, 113, 90, 68, 174, 194, 170, 100, 75, 104, 97, 75, 123, 100, 75, 104, 97, 75, 123, 100, 89, 120, 109])"
   ]
  },
  {
   "cell_type": "code",
   "execution_count": 14,
   "id": "86d281c5",
   "metadata": {},
   "outputs": [
    {
     "data": {
      "text/plain": [
       "107.51428571428572"
      ]
     },
     "execution_count": 14,
     "metadata": {},
     "output_type": "execute_result"
    }
   ],
   "source": [
    "np.mean(y)"
   ]
  },
  {
   "cell_type": "code",
   "execution_count": 15,
   "id": "8c8a2857",
   "metadata": {},
   "outputs": [
    {
     "data": {
      "text/plain": [
       "100.0"
      ]
     },
     "execution_count": 15,
     "metadata": {},
     "output_type": "execute_result"
    }
   ],
   "source": [
    "np.median(y)"
   ]
  },
  {
   "cell_type": "code",
   "execution_count": 16,
   "id": "96534716",
   "metadata": {},
   "outputs": [
    {
     "data": {
      "text/plain": [
       "[75]"
      ]
     },
     "execution_count": 16,
     "metadata": {},
     "output_type": "execute_result"
    }
   ],
   "source": [
    "mode(y)"
   ]
  },
  {
   "cell_type": "markdown",
   "id": "a2dcd79d",
   "metadata": {},
   "source": [
    "### Problem Statement 3:\n",
    "The number of times I go to the gym in weekdays, are given below along with its\n",
    "associated probability:\n",
    "x = 0, 1, 2, 3, 4, 5\n",
    "f(x) = 0.09, 0.15, 0.40, 0.25, 0.10, 0.01\n",
    "Calculate the mean no. of workouts in a week. Also evaluate the variance involved in\n",
    "it."
   ]
  },
  {
   "cell_type": "code",
   "execution_count": 26,
   "id": "1102b549",
   "metadata": {},
   "outputs": [],
   "source": [
    "x = [0,1,2,3,4,5]\n",
    "y = [0.09, 0.15, 0.40, 0.25, 0.10, 0.01]"
   ]
  },
  {
   "cell_type": "code",
   "execution_count": 27,
   "id": "e36d8fb6",
   "metadata": {},
   "outputs": [
    {
     "name": "stdout",
     "output_type": "stream",
     "text": [
      "mean number of workouts: 2.15\n",
      "variance: 1.2275\n"
     ]
    }
   ],
   "source": [
    "avg=0\n",
    "var=0\n",
    "for i,j in zip(x,y):\n",
    "    avg+=i*j\n",
    "for i,j in zip(x,y):\n",
    "    var+=(((i-avg)**2)*j)\n",
    "print('mean number of workouts:',avg)\n",
    "print('variance:',var)"
   ]
  },
  {
   "cell_type": "markdown",
   "id": "3ee1433d",
   "metadata": {},
   "source": [
    "### Problem Statement 4:\n",
    "Let the continuous random variable D denote the diameter of the hole drilled in an\n",
    "aluminum sheet. The target diameter to be achieved is 12.5mm. Random\n",
    "disturbances in the process often result in inaccuracy.\n",
    "Historical data shows that the distribution of D can be modelled by the PDF (d) =\n",
    "20e−20(d−12.5), d ≥ 12.5. If a part with diameter > 12.6 mm needs to be scrapped,\n",
    "what is the proportion of those parts? What is the CDF when the diameter is of 11\n",
    "mm? What is your conclusion regarding the proportion of scraps?"
   ]
  },
  {
   "cell_type": "code",
   "execution_count": 45,
   "id": "cf9657e6",
   "metadata": {},
   "outputs": [
    {
     "name": "stdout",
     "output_type": "stream",
     "text": [
      "Proportion of parts if diameter is greater than 12.6mm: 0.13533528323661398\n",
      "CDF when diameter is of 11mm is Zero\n",
      "Proportion of scraps: 0.8646647167633718\n"
     ]
    }
   ],
   "source": [
    "from scipy.integrate import quad\n",
    "\n",
    "def PDF(D):\n",
    "    return (20*np.exp(-20*(D-12.5)))\n",
    "res = quad(PDF,a=12.6,b=np.inf)[0]\n",
    "print('Proportion of parts if diameter is greater than 12.6mm:',res)\n",
    "print('CDF when diameter is of 11mm is Zero')\n",
    "res1 = quad(PDF,a=12.5,b=12.6)[0]\n",
    "print('Proportion of scraps:',res1)\n"
   ]
  },
  {
   "cell_type": "markdown",
   "id": "82ca2f76",
   "metadata": {},
   "source": [
    "### Problem Statement 5:\n",
    "\n",
    "A company manufactures LED bulbs with a faulty rate of 30%. If I randomly select 6\n",
    "chosen LEDs, what is the probability of having 2 faulty LEDs in my sample?\n",
    "Calculate the average value of this process. Also evaluate the standard deviation\n",
    "associated with it."
   ]
  },
  {
   "cell_type": "code",
   "execution_count": 46,
   "id": "ba859ea2",
   "metadata": {},
   "outputs": [
    {
     "name": "stdout",
     "output_type": "stream",
     "text": [
      "The probability of having 2 faulty LEDs is:0.3284\n",
      "The average of this process:1.79375\n",
      "The standard deviation:1.1201834392187735\n"
     ]
    }
   ],
   "source": [
    "fault_rate = 0.3\n",
    "n=6\n",
    "r=2\n",
    "trails = 20000\n",
    "binomial_distribution = np.random.binomial(n,fault_rate,trails)\n",
    "prob_2_faulty = np.sum(binomial_distribution==2)/trails\n",
    "mean = binomial_distribution.mean()\n",
    "standard_deviation = binomial_distribution.std()\n",
    "print(f\"The probability of having 2 faulty LEDs is:{prob_2_faulty}\")\n",
    "print(f\"The average of this process:{mean}\")\n",
    "print(f\"The standard deviation:{standard_deviation}\")"
   ]
  },
  {
   "cell_type": "markdown",
   "id": "67f9bdf5",
   "metadata": {},
   "source": [
    "### Problem Statement 6:\n",
    "\n",
    "Gaurav and Barakha are both preparing for entrance exams. Gaurav attempts to\n",
    "solve 8 questions per day with a correction rate of 75%, while Barakha averages\n",
    "around 12 questions per day with a correction rate of 45%. What is the probability\n",
    "that each of them will solve 5 questions correctly? What happens in cases of 4 and 6\n",
    "correct solutions? What do you infer from it? What are the two main governing\n",
    "factors affecting their ability to solve questions correctly? Give a pictorial\n",
    "representation of the same to validate your answer."
   ]
  },
  {
   "cell_type": "code",
   "execution_count": 49,
   "id": "48ed8a3c",
   "metadata": {},
   "outputs": [
    {
     "name": "stdout",
     "output_type": "stream",
     "text": [
      "Probability of gaurav solving 5 questions corretly is:0.20845\n",
      "Probability of barkha solving 5 questions corretly is:0.22395\n",
      "Probability of gaurav solving 4 questions corretly is:0.0872\n",
      "Probability of barkha solving 4 questions corretly is:0.0872\n",
      "Probability of gaurav solving 6 questions corretly is:0.3087\n",
      "Probability of barkha solving 6 questions corretly is:0.3087\n"
     ]
    },
    {
     "data": {
      "text/plain": [
       "Text(0.5, 1.0, 'Probaility Distribuion Of Gaurav And Barkha')"
      ]
     },
     "execution_count": 49,
     "metadata": {},
     "output_type": "execute_result"
    },
    {
     "data": {
      "image/png": "[encoded data removed]",
      "text/plain": [
       "<Figure size 432x288 with 1 Axes>"
      ]
     },
     "metadata": {
      "needs_background": "light"
     },
     "output_type": "display_data"
    }
   ],
   "source": [
    "gaurav = np.random.binomial(8,0.75,20000)\n",
    "barkha = np.random.binomial(12,0.45,20000)\n",
    "g_prob = []\n",
    "b_prob = []\n",
    "for i in range(9):\n",
    "    g_prob.append(np.sum(gaurav==i)/20000)\n",
    "    b_prob.append(np.sum(barkha==i)/20000)\n",
    "print(f'Probability of gaurav solving 5 questions corretly is:{g_prob[5]}')\n",
    "print(f'Probability of barkha solving 5 questions corretly is:{b_prob[5]}')\n",
    "print(f'Probability of gaurav solving 4 questions corretly is:{g_prob[4]}')\n",
    "print(f'Probability of barkha solving 4 questions corretly is:{g_prob[4]}')\n",
    "print(f'Probability of gaurav solving 6 questions corretly is:{g_prob[6]}')\n",
    "print(f'Probability of barkha solving 6 questions corretly is:{g_prob[6]}')\n",
    "\n",
    "x = [i for i in range(9)]\n",
    "plt.plot(x,g_prob)\n",
    "plt.xlabel(\"Number of correct questions\")\n",
    "plt.ylabel(\"P(x)\")\n",
    "plt.title(\"Probability distribution of Gaurav with p=0.75,n=8\")\n",
    "\n",
    "plt.plot(x,b_prob)\n",
    "plt.xlabel(\"Number of correct questions\")\n",
    "plt.ylabel(\"P(x)\")\n",
    "plt.title(\"Probability distribution of Barkha with p=0.45,n=12\")\n",
    "\n",
    "plt.plot(x,g_prob,label=\"Gaurav\")\n",
    "plt.plot(x,g_prob,label=\"Barkha\")\n",
    "plt.xlabel(\"Number of correct questions\")\n",
    "plt.ylabel(\"P(x)\")\n",
    "plt.figlegend()\n",
    "plt.title(\"Probaility Distribuion Of Gaurav And Barkha\")"
   ]
  },
  {
   "cell_type": "markdown",
   "id": "2fd9b220",
   "metadata": {},
   "source": [
    "### Problem Statement 7:\n",
    "\n",
    "Customers arrive at a rate of 72 per hour to my shop. What is the probability of k\n",
    "customers arriving in 4 minutes? a) 5 customers, b) not more than 3 customers, c)\n",
    "more than 3 customers. Give a pictorial representation of the same to validate your\n",
    "answer."
   ]
  },
  {
   "cell_type": "code",
   "execution_count": 52,
   "id": "1adcdfdd",
   "metadata": {},
   "outputs": [
    {
     "name": "stdout",
     "output_type": "stream",
     "text": [
      "a)0.168\n",
      "b)0.291\n",
      "c)0.709\n"
     ]
    },
    {
     "name": "stderr",
     "output_type": "stream",
     "text": [
      "D:\\conda\\lib\\site-packages\\seaborn\\distributions.py:2619: FutureWarning: `distplot` is a deprecated function and will be removed in a future version. Please adapt your code to use either `displot` (a figure-level function with similar flexibility) or `kdeplot` (an axes-level function for kernel density plots).\n",
      "  warnings.warn(msg, FutureWarning)\n"
     ]
    },
    {
     "data": {
      "text/plain": [
       "<AxesSubplot:ylabel='Density'>"
      ]
     },
     "execution_count": 52,
     "metadata": {},
     "output_type": "execute_result"
    },
    {
     "data": {
      "image/png": "[encoded data removed]",
      "text/plain": [
       "<Figure size 432x288 with 1 Axes>"
      ]
     },
     "metadata": {
      "needs_background": "light"
     },
     "output_type": "display_data"
    }
   ],
   "source": [
    "mean_4_minutes  = (72/60)*4\n",
    "distribution = np.random.poisson(mean_4_minutes,1000)\n",
    "prob_5 = np.sum(distribution==5)/1000\n",
    "prob_less_than_3 = np.sum(distribution<=3)/1000\n",
    "prob_more_3 = np.sum(distribution>3)/1000\n",
    "print(f\"a){prob_5}\")\n",
    "print(f\"b){prob_less_than_3}\")\n",
    "print(f\"c){prob_more_3}\")\n",
    "\n",
    "sns.distplot(distribution,hist=False,color=\"blue\")"
   ]
  },
  {
   "cell_type": "markdown",
   "id": "4416de63",
   "metadata": {},
   "source": [
    "### Problem Statement 8:\n",
    "\n",
    "I work as a data analyst in Aeon Learning Pvt. Ltd. After analyzing data, I make\n",
    "reports, where I have the efficiency of entering 77 words per minute with 6 errors per\n",
    "hour. What is the probability that I will commit 2 errors in a 455-word financial report?\n",
    "What happens when the no. of words increases/decreases (in case of 1000 words,\n",
    "255 words)?\n",
    "How is the λ affected?\n",
    "How does it influence the PMF?\n",
    "Give a pictorial representation of the same to validate your answer."
   ]
  },
  {
   "cell_type": "code",
   "execution_count": 54,
   "id": "384d7824",
   "metadata": {},
   "outputs": [
    {
     "data": {
      "text/plain": [
       "Text(0, 0.5, 'Probability of two erros')"
      ]
     },
     "execution_count": 54,
     "metadata": {},
     "output_type": "execute_result"
    },
    {
     "data": {
      "image/png": "[encoded data removed]",
      "text/plain": [
       "<Figure size 432x288 with 1 Axes>"
      ]
     },
     "metadata": {
      "needs_background": "light"
     },
     "output_type": "display_data"
    }
   ],
   "source": [
    "errors_per_minute = 6/60\n",
    "words = [100,255,455,1000,1500]\n",
    "probability =[]\n",
    "for i in words:\n",
    "    lamda = i/77*errors_per_minute\n",
    "    distribution = np.random.poisson(lamda,1000)\n",
    "    probability.append(np.sum(distribution==2)/1000)\n",
    "plt.plot(words,probability)\n",
    "plt.xlabel(\"Number of Words\")\n",
    "plt.ylabel(\"Probability of two erros\")"
   ]
  },
  {
   "cell_type": "markdown",
   "id": "797209bc",
   "metadata": {},
   "source": [
    "### Problem statement 9 and 4 are same."
   ]
  },
  {
   "cell_type": "markdown",
   "id": "aec08330",
   "metadata": {},
   "source": [
    "### Problem Statement 10:\n",
    "\n",
    "Please compute the following:\n",
    "a) P(Z > 1.26), . P(Z < −0.86), P(Z > −1.37), P(−1.25 < Z < 0.37), . P(Z ≤ −4.6)\n",
    "b) Find the value z such that P(Z > z) = 0.05\n",
    "c) Find the value of z such that P(−z < Z < z) = 0.99"
   ]
  },
  {
   "cell_type": "code",
   "execution_count": 56,
   "id": "fb80c900",
   "metadata": {},
   "outputs": [
    {
     "name": "stdout",
     "output_type": "stream",
     "text": [
      "P(Z > 1.26): 0.10383468112130045\n",
      "P(Z < -0.86) 0.1948945212518084\n",
      "P(Z > -1.37) 0.914656549178033\n",
      "P(−1.25 < Z < 0.37) 0.6042449693699744\n",
      "P(Z ≤ −4.6) 2.1124547024964357e-06\n",
      "The value z such that P(Z > z) = 0.05: 1.6448536269514729\n",
      "The value of z such that P(−z < Z < z) = 0.99: 2.3263478740408408\n"
     ]
    }
   ],
   "source": [
    "print(\"P(Z > 1.26):\",1-(st.norm.cdf(1.26)))\n",
    "print(\"P(Z < -0.86)\",st.norm.cdf(-0.86))\n",
    "print(\"P(Z > -1.37)\",1-(st.norm.cdf(-1.37)))\n",
    "print(\"P(−1.25 < Z < 0.37)\",st.norm.cdf((0.37)-st.norm.cdf(-1.25)))\n",
    "print(\"P(Z ≤ −4.6)\",1-(st.norm.cdf(4.6)))\n",
    "print(\"The value z such that P(Z > z) = 0.05:\",np.absolute(st.norm.ppf(0.05)))\n",
    "print(\"The value of z such that P(−z < Z < z) = 0.99:\",st.norm.ppf(0.99))"
   ]
  },
  {
   "cell_type": "markdown",
   "id": "68abba9e",
   "metadata": {},
   "source": [
    "### Problem Statement 11:\n",
    "\n",
    "The current flow in a copper wire follow a normal distribution with a mean of 10 mA\n",
    "and a variance of 4 (mA)2.\n",
    "What is the probability that a current measurement will exceed 13 mA? What is the\n",
    "probability that a current measurement is between 9 and 11mA? Determine the\n",
    "current measurement which has a probability of 0.98."
   ]
  },
  {
   "cell_type": "code",
   "execution_count": 57,
   "id": "ca16b72f",
   "metadata": {},
   "outputs": [
    {
     "name": "stdout",
     "output_type": "stream",
     "text": [
      "probability that a current measurement will exceed 13 𝑚𝐴: 0.06680720126885809\n",
      "probability that a current measurement is between 9 and 11mA: 0.38292492254802624\n",
      "current measurement which has a probability of 0.98: 14.107497821263646\n"
     ]
    }
   ],
   "source": [
    "mean=10\n",
    "std=2\n",
    "print(\"probability that a current measurement will exceed 13 𝑚𝐴:\",1-(st.norm.cdf(x=13,loc=mean,scale=std)))\n",
    "print(\"probability that a current measurement is between 9 and 11mA:\",(st.norm.cdf(x=11,loc=mean,scale=std)-st.norm.cdf(x=9,loc=mean,scale=std)))\n",
    "print(\"current measurement which has a probability of 0.98:\",st.norm.ppf(q=0.98,loc=mean,scale=std))"
   ]
  },
  {
   "cell_type": "markdown",
   "id": "be61c07c",
   "metadata": {},
   "source": [
    "### Problem Statement 12:\n",
    "\n",
    "The shaft in a piston has its diameter normally distributed with a mean of 0.2508 inch\n",
    "and a standard deviation of 0.0005 inch. The specifications of the shaft are 0.2500 ∓\n",
    "0.0015 inch. What proportion of shafts are in sync with the specifications? If the\n",
    "process is centered so that the mean is equal to the target value of 0.2500, what\n",
    "proportion of shafts conform to the new specifications? What is your conclusion from\n",
    "this experiment?"
   ]
  },
  {
   "cell_type": "code",
   "execution_count": 58,
   "id": "30ecad58",
   "metadata": {},
   "outputs": [
    {
     "name": "stdout",
     "output_type": "stream",
     "text": [
      "Proportion of shafts in sync with the specifications are: 0.91924122831152\n",
      "Proportion of shafts in sync with the specifications after the process is centered is: 0.9973002039367398\n"
     ]
    }
   ],
   "source": [
    "mean=0.2508\n",
    "std=0.0005\n",
    "l1=0.2500-0.0015\n",
    "l2=0.2500+0.0015\n",
    "print(\"Proportion of shafts in sync with the specifications are:\",(st.norm.cdf(x=l2,loc=mean,scale=std)-st.norm.cdf(x=l1,loc=mean,scale=std)))\n",
    "new_mean=0.2500\n",
    "print(\"Proportion of shafts in sync with the specifications after the process is centered is:\",(st.norm.cdf(x=l2,loc=new_mean,scale=std)-st.norm.cdf(x=l1,loc=new_mean,scale=std)))"
   ]
  },
  {
   "cell_type": "code",
   "execution_count": null,
   "id": "1a6d09c7",
   "metadata": {},
   "outputs": [],
   "source": []
  }
 ],
 "metadata": {
  "kernelspec": {
   "display_name": "Python 3 (ipykernel)",
   "language": "python",
   "name": "python3"
  },
  "language_info": {
   "codemirror_mode": {
    "name": "ipython",
    "version": 3
   },
   "file_extension": ".py",
   "mimetype": "text/x-python",
   "name": "python",
   "nbconvert_exporter": "python",
   "pygments_lexer": "ipython3",
   "version": "3.9.7"
  }
 },
 "nbformat": 4,
 "nbformat_minor": 5
}
