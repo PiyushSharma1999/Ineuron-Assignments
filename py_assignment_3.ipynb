{
 "cells": [
  {
   "cell_type": "markdown",
   "id": "8d405f90",
   "metadata": {},
   "source": [
    "### 1.1 Write a Python Program to implement your own myreduce() function which works exactly like Python's builtin function reduce()."
   ]
  },
  {
   "cell_type": "code",
   "execution_count": 32,
   "id": "19090cef",
   "metadata": {},
   "outputs": [
    {
     "name": "stdout",
     "output_type": "stream",
     "text": [
      "15\n"
     ]
    }
   ],
   "source": [
    "def myreduce(add,elements):\n",
    "    return a\n",
    "\n",
    "def add(a,b):\n",
    "    return a+b\n",
    "\n",
    "elements = [1,2,3,4,5]\n",
    "a=elements[0]\n",
    "for i in range(1,len(elements)):\n",
    "    b= elements[i]\n",
    "    a= add(a,b)\n",
    "print(myreduce(add,elements)) "
   ]
  },
  {
   "cell_type": "markdown",
   "id": "d11df0cf",
   "metadata": {},
   "source": [
    "### 1.2 Write a Python program to implement your on myfilter() function which works exactly like Python's built-in function filter()"
   ]
  },
  {
   "cell_type": "code",
   "execution_count": 33,
   "id": "77d7b086",
   "metadata": {},
   "outputs": [
    {
     "name": "stdout",
     "output_type": "stream",
     "text": [
      "[2, 4, 6, 8, 10]\n"
     ]
    }
   ],
   "source": [
    "def myfilter(is_even,elements):\n",
    "    return is_even(a)\n",
    "elements = [2,3,4,5,6,7,8,9,10]\n",
    "list_e = []\n",
    "\n",
    "def is_even(a):\n",
    "    for i in elements:\n",
    "        if i%2==0:\n",
    "            list_e.append(i)\n",
    "    print(list_e)\n",
    "\n",
    "myfilter(is_even,elements)"
   ]
  },
  {
   "cell_type": "markdown",
   "id": "e3908816",
   "metadata": {},
   "source": [
    "### 2. Implement List comprehension to produce the following lists.\n",
    "\n",
    "Write List comprehensions to produce the following Lists.\n",
    "\n",
    "['x', 'xx', 'xxx', 'xxxx', 'y', 'yy', 'yyy', 'yyyy', 'z', 'zz', 'zzz', 'zzzz']\n",
    "\n",
    "['x', 'y', 'z', 'xx', 'yy', 'zz', 'xxx', 'yyy', 'zzz', 'xxxx', 'yyyy', 'zzzz']\n",
    "\n",
    "[[2], [3], [4], [3], [4], [5], [4], [5], [6]] [[2, 3, 4, 5],[3, 4, 5, 6],[4, 5, 6, 7], [5, 6, 7, 8]]\n",
    "\n",
    "[(1, 1), (2, 1), (3, 1), (1, 2), (2, 2), (3, 2), (1, 3), (2, 3), (3, 3)]"
   ]
  },
  {
   "cell_type": "code",
   "execution_count": 97,
   "id": "189d23ff",
   "metadata": {},
   "outputs": [
    {
     "data": {
      "text/plain": [
       "['x', 'xx', 'xxx', 'xxxx', 'y', 'yy', 'yyy', 'yyyy', 'z', 'zz', 'zzz', 'zzzz']"
      ]
     },
     "execution_count": 97,
     "metadata": {},
     "output_type": "execute_result"
    }
   ],
   "source": [
    "l=[]\n",
    "[l.append('x'*i) for i in range(1,5)]\n",
    "[l.append('y'*i) for i in range(1,5)]\n",
    "[l.append('z'*i) for i in range(1,5)]\n",
    "\n",
    "l"
   ]
  },
  {
   "cell_type": "code",
   "execution_count": 99,
   "id": "34b203a3",
   "metadata": {},
   "outputs": [
    {
     "data": {
      "text/plain": [
       "['x', 'y', 'z', 'xx', 'yy', 'zz', 'xxx', 'yyy', 'zzz', 'xxxx', 'yyyy', 'zzzz']"
      ]
     },
     "execution_count": 99,
     "metadata": {},
     "output_type": "execute_result"
    }
   ],
   "source": [
    "l.sort(key=lambda x: len(x))\n",
    "l"
   ]
  },
  {
   "cell_type": "code",
   "execution_count": 130,
   "id": "bd265052",
   "metadata": {},
   "outputs": [],
   "source": [
    "l1 = [[[i],[i+1],[i+2]] for i in range(2,5)]  \n",
    "l2 = [[i,i+1,i+2,i+3] for i in range(2,6)]"
   ]
  },
  {
   "cell_type": "code",
   "execution_count": 139,
   "id": "0d53a1f7",
   "metadata": {},
   "outputs": [
    {
     "data": {
      "text/plain": [
       "[[[2], [3], [4]],\n",
       " [[3], [4], [5]],\n",
       " [[4], [5], [6]],\n",
       " [2, 3, 4, 5],\n",
       " [3, 4, 5, 6],\n",
       " [4, 5, 6, 7],\n",
       " [5, 6, 7, 8]]"
      ]
     },
     "execution_count": 139,
     "metadata": {},
     "output_type": "execute_result"
    }
   ],
   "source": [
    "l3 = l1 + l2\n",
    "l3[0:8]"
   ]
  }
 ],
 "metadata": {
  "kernelspec": {
   "display_name": "Python 3 (ipykernel)",
   "language": "python",
   "name": "python3"
  },
  "language_info": {
   "codemirror_mode": {
    "name": "ipython",
    "version": 3
   },
   "file_extension": ".py",
   "mimetype": "text/x-python",
   "name": "python",
   "nbconvert_exporter": "python",
   "pygments_lexer": "ipython3",
   "version": "3.9.7"
  }
 },
 "nbformat": 4,
 "nbformat_minor": 5
}
