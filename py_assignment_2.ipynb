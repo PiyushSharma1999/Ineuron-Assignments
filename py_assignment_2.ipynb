{
 "cells": [
  {
   "cell_type": "code",
   "execution_count": 4,
   "id": "b571c539",
   "metadata": {},
   "outputs": [
    {
     "name": "stdout",
     "output_type": "stream",
     "text": [
      "Enter number of stars:5\n",
      "* \n",
      "* * \n",
      "* * * \n",
      "* * * * \n",
      "* * * * * \n",
      "* * * * \n",
      "* * * \n",
      "* * \n",
      "* \n"
     ]
    }
   ],
   "source": [
    "# Write a program to create a half diamond pattern.\n",
    "n=int(input('Enter number of stars:'))\n",
    "for i in range(n):\n",
    "    print('* '*(i+1))\n",
    "for i in range(n-1):\n",
    "    print('* '*(n-i-1))"
   ]
  },
  {
   "cell_type": "code",
   "execution_count": 5,
   "id": "55f74c2b",
   "metadata": {},
   "outputs": [
    {
     "name": "stdout",
     "output_type": "stream",
     "text": [
      "Enter some string to reverse:piyush\n",
      "hsuyip"
     ]
    }
   ],
   "source": [
    "n=input('Enter some string to reverse:')\n",
    "print(n[::-1],end='')"
   ]
  },
  {
   "cell_type": "code",
   "execution_count": 26,
   "id": "f3d4b3a3",
   "metadata": {},
   "outputs": [
    {
     "name": "stdout",
     "output_type": "stream",
     "text": [
      "Enter:piyush\n",
      "hsuyip"
     ]
    }
   ],
   "source": [
    "# Alternate code without slice operator\n",
    "s=input('Enter:')\n",
    "n=len(s)\n",
    "for i in range(n):\n",
    "    print(s[-i-1],end='')"
   ]
  }
 ],
 "metadata": {
  "kernelspec": {
   "display_name": "Python 3",
   "language": "python",
   "name": "python3"
  },
  "language_info": {
   "codemirror_mode": {
    "name": "ipython",
    "version": 3
   },
   "file_extension": ".py",
   "mimetype": "text/x-python",
   "name": "python",
   "nbconvert_exporter": "python",
   "pygments_lexer": "ipython3",
   "version": "3.8.8"
  }
 },
 "nbformat": 4,
 "nbformat_minor": 5
}
